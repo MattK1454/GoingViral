{
 "cells": [
  {
   "cell_type": "code",
   "execution_count": 1,
   "metadata": {},
   "outputs": [],
   "source": [
    "# Import dependencies\n",
    "import pandas as pd\n",
    "import numpy as np\n",
    "import seaborn as sns\n",
    "import matplotlib.pyplot as plt\n",
    "from sklearn.model_selection import train_test_split\n",
    "from sklearn.linear_model import LinearRegression\n",
    "from sklearn.preprocessing import StandardScaler\n",
    "from sklearn.metrics import mean_squared_error, r2_score\n",
    "from sqlalchemy import create_engine\n",
    "from config import user, db_password, host, database"
   ]
  },
  {
   "cell_type": "code",
   "execution_count": 2,
   "metadata": {},
   "outputs": [],
   "source": [
    "# Create the database engine\n",
    "engine = create_engine(f\"postgres://{user}:{db_password}@{host}:5432/{database}\")"
   ]
  },
  {
   "cell_type": "code",
   "execution_count": 3,
   "metadata": {},
   "outputs": [],
   "source": [
    "# Import flu and uninsured rates from database\n",
    "uninsured_rates_df = pd.read_sql_query(\"SELECT * FROM uninsured_rates_by_state\", con=engine)\n",
    "# uninsured_rates_df.head()\n",
    "\n",
    "flu_df = pd.read_sql_query(\"SELECT * FROM cleaned_flu_csv\", con=engine)\n",
    "# flu_df.head()"
   ]
  },
  {
   "cell_type": "code",
   "execution_count": 4,
   "metadata": {},
   "outputs": [
    {
     "data": {
      "text/html": [
       "<div>\n",
       "<style scoped>\n",
       "    .dataframe tbody tr th:only-of-type {\n",
       "        vertical-align: middle;\n",
       "    }\n",
       "\n",
       "    .dataframe tbody tr th {\n",
       "        vertical-align: top;\n",
       "    }\n",
       "\n",
       "    .dataframe thead th {\n",
       "        text-align: right;\n",
       "    }\n",
       "</style>\n",
       "<table border=\"1\" class=\"dataframe\">\n",
       "  <thead>\n",
       "    <tr style=\"text-align: right;\">\n",
       "      <th></th>\n",
       "      <th>state</th>\n",
       "      <th>uninsured_rate_2016</th>\n",
       "      <th>uninsured_rate_2017</th>\n",
       "      <th>uninsured_rate_2018</th>\n",
       "      <th>uninsured_rate_2019</th>\n",
       "      <th>flu_cases_2016</th>\n",
       "      <th>flu_cases_2017</th>\n",
       "      <th>flu_cases_2018</th>\n",
       "      <th>flu_cases_2019</th>\n",
       "    </tr>\n",
       "  </thead>\n",
       "  <tbody>\n",
       "    <tr>\n",
       "      <th>0</th>\n",
       "      <td>Alabama</td>\n",
       "      <td>9.1</td>\n",
       "      <td>9.4</td>\n",
       "      <td>10</td>\n",
       "      <td>9.7</td>\n",
       "      <td>11546.0</td>\n",
       "      <td>26878.0</td>\n",
       "      <td>63999.0</td>\n",
       "      <td>68724.0</td>\n",
       "    </tr>\n",
       "    <tr>\n",
       "      <th>1</th>\n",
       "      <td>Alaska</td>\n",
       "      <td>14.0</td>\n",
       "      <td>13.7</td>\n",
       "      <td>12</td>\n",
       "      <td>12.2</td>\n",
       "      <td>1063.0</td>\n",
       "      <td>3306.0</td>\n",
       "      <td>8352.0</td>\n",
       "      <td>8249.0</td>\n",
       "    </tr>\n",
       "    <tr>\n",
       "      <th>2</th>\n",
       "      <td>Arizona</td>\n",
       "      <td>10.0</td>\n",
       "      <td>10.1</td>\n",
       "      <td>10</td>\n",
       "      <td>11.3</td>\n",
       "      <td>22366.0</td>\n",
       "      <td>22543.0</td>\n",
       "      <td>24574.0</td>\n",
       "      <td>20504.0</td>\n",
       "    </tr>\n",
       "    <tr>\n",
       "      <th>3</th>\n",
       "      <td>Arkansas</td>\n",
       "      <td>7.9</td>\n",
       "      <td>7.9</td>\n",
       "      <td>8</td>\n",
       "      <td>9.1</td>\n",
       "      <td>2883.0</td>\n",
       "      <td>5249.0</td>\n",
       "      <td>5831.0</td>\n",
       "      <td>5939.0</td>\n",
       "    </tr>\n",
       "    <tr>\n",
       "      <th>4</th>\n",
       "      <td>California</td>\n",
       "      <td>7.3</td>\n",
       "      <td>7.2</td>\n",
       "      <td>7</td>\n",
       "      <td>7.7</td>\n",
       "      <td>44159.0</td>\n",
       "      <td>46097.0</td>\n",
       "      <td>52153.0</td>\n",
       "      <td>52210.0</td>\n",
       "    </tr>\n",
       "  </tbody>\n",
       "</table>\n",
       "</div>"
      ],
      "text/plain": [
       "        state  uninsured_rate_2016  uninsured_rate_2017  uninsured_rate_2018  \\\n",
       "0     Alabama                  9.1                  9.4                   10   \n",
       "1      Alaska                 14.0                 13.7                   12   \n",
       "2     Arizona                 10.0                 10.1                   10   \n",
       "3    Arkansas                  7.9                  7.9                    8   \n",
       "4  California                  7.3                  7.2                    7   \n",
       "\n",
       "   uninsured_rate_2019  flu_cases_2016  flu_cases_2017  flu_cases_2018  \\\n",
       "0                  9.7         11546.0         26878.0         63999.0   \n",
       "1                 12.2          1063.0          3306.0          8352.0   \n",
       "2                 11.3         22366.0         22543.0         24574.0   \n",
       "3                  9.1          2883.0          5249.0          5831.0   \n",
       "4                  7.7         44159.0         46097.0         52153.0   \n",
       "\n",
       "   flu_cases_2019  \n",
       "0         68724.0  \n",
       "1          8249.0  \n",
       "2         20504.0  \n",
       "3          5939.0  \n",
       "4         52210.0  "
      ]
     },
     "execution_count": 4,
     "metadata": {},
     "output_type": "execute_result"
    }
   ],
   "source": [
    "# Merge datasets\n",
    "uni_flu_df = pd.merge(uninsured_rates_df, flu_df, left_index=True, right_index=True)\n",
    "\n",
    "uni_flu_df= uni_flu_df.drop(columns=\"state\").copy()\n",
    "\n",
    "uni_flu_df = uni_flu_df.rename(columns={\"\\ufeffState\": 'state', \n",
    "                                        \"Uninsured Rate 2016\": \"uninsured_rate_2016\", \n",
    "                                        \"Uninsured Rate 2017\": \"uninsured_rate_2017\",\n",
    "                                        \"Uninsured Rate 2018\": \"uninsured_rate_2018\",\n",
    "                                        \"Uninsured Rate 2019\": \"uninsured_rate_2019\",\n",
    "                                        \"2016\": \"flu_cases_2016\", \n",
    "                                        \"2017\": \"flu_cases_2017\", \n",
    "                                        \"2018\": \"flu_cases_2018\", \n",
    "                                        \"2019\": \"flu_cases_2019\"})\n",
    "\n",
    "uni_flu_df.head()"
   ]
  },
  {
   "cell_type": "code",
   "execution_count": 5,
   "metadata": {},
   "outputs": [],
   "source": [
    "# Create list of columns in dataframe uni_flu to check names\n",
    "cols = uni_flu_df.columns.tolist()"
   ]
  },
  {
   "cell_type": "code",
   "execution_count": 6,
   "metadata": {},
   "outputs": [
    {
     "data": {
      "text/plain": [
       "state                   object\n",
       "uninsured_rate_2019    float64\n",
       "flu_cases_2019         float64\n",
       "dtype: object"
      ]
     },
     "execution_count": 6,
     "metadata": {},
     "output_type": "execute_result"
    }
   ],
   "source": [
    "# Create dataframe for Linear Regression models\n",
    "uni_flu_2016_df = uni_flu_df[['state', 'uninsured_rate_2016', 'flu_cases_2016']]\n",
    "uni_flu_2017_df = uni_flu_df[['state', 'uninsured_rate_2017', 'flu_cases_2017']]\n",
    "uni_flu_2018_df = uni_flu_df[['state', 'uninsured_rate_2018', 'flu_cases_2018']]\n",
    "uni_flu_2019_df = uni_flu_df[['state', 'uninsured_rate_2019', 'flu_cases_2019']]\n",
    "\n",
    "# uni_flu_2016_df['uninsured_rate_2016'] = uni_flu_2016_df.uninsured_rate_2016.astype(int)\n",
    "# uni_flu_2016_df['flu_cases_2016'] = uni_flu_2016_df.flu_cases_2016.astype(int)\n",
    "# uni_flu_2017_df['uninsured_rate_2017'] = uni_flu_2017_df.uninsured_rate_2017.astype(int)\n",
    "# uni_flu_2017_df['flu_cases_2017'] = uni_flu_2017_df.flu_cases_2017.astype(int)\n",
    "# uni_flu_2018_df['uninsured_rate_2018'] = uni_flu_2018_df.uninsured_rate_2018.astype(int)\n",
    "# uni_flu_2018_df['flu_cases_2018'] = uni_flu_2018_df.flu_cases_2018.astype(int)\n",
    "# uni_flu_2019_df['uninsured_rate_2019'] = uni_flu_2019_df.uninsured_rate_2019.astype(int)\n",
    "# uni_flu_2019_df['flu_cases_2019'] = uni_flu_2019_df.flu_cases_2019.astype(int)\n",
    "\n",
    "uni_flu_2019_df.dtypes"
   ]
  },
  {
   "cell_type": "code",
   "execution_count": 7,
   "metadata": {},
   "outputs": [
    {
     "data": {
      "image/png": "[encoded data removed]",
      "text/plain": [
       "<Figure size 360x360 with 1 Axes>"
      ]
     },
     "metadata": {
      "needs_background": "light"
     },
     "output_type": "display_data"
    },
    {
     "data": {
      "image/png": "[encoded data removed]",
      "text/plain": [
       "<Figure size 360x360 with 1 Axes>"
      ]
     },
     "metadata": {
      "needs_background": "light"
     },
     "output_type": "display_data"
    },
    {
     "data": {
      "image/png": "[encoded data removed]",
      "text/plain": [
       "<Figure size 360x360 with 1 Axes>"
      ]
     },
     "metadata": {
      "needs_background": "light"
     },
     "output_type": "display_data"
    },
    {
     "data": {
      "image/png": "[encoded data removed]",
      "text/plain": [
       "<Figure size 360x360 with 1 Axes>"
      ]
     },
     "metadata": {
      "needs_background": "light"
     },
     "output_type": "display_data"
    }
   ],
   "source": [
    "# Explore datasets\n",
    "fig_2016 = sns.lmplot(x=\"uninsured_rate_2016\", y=\"flu_cases_2016\", data= uni_flu_2016_df)\n",
    "fig_2017 = sns.lmplot(x=\"uninsured_rate_2017\", y=\"flu_cases_2017\", data= uni_flu_2017_df)\n",
    "fig_2018 = sns.lmplot(x=\"uninsured_rate_2018\", y=\"flu_cases_2018\", data= uni_flu_2018_df)\n",
    "fig_2019 = sns.lmplot(x=\"uninsured_rate_2019\", y=\"flu_cases_2019\", data= uni_flu_2019_df)"
   ]
  },
  {
   "cell_type": "code",
   "execution_count": 8,
   "metadata": {},
   "outputs": [],
   "source": [
    "# Seperate out dependent and independent\n",
    "# independent variable\n",
    "X_2016 = uni_flu_2016_df['uninsured_rate_2016'].values.reshape(-1,1)\n",
    "X_2017 = uni_flu_2017_df['uninsured_rate_2017'].values.reshape(-1,1)\n",
    "X_2018 = uni_flu_2018_df['uninsured_rate_2018'].values.reshape(-1,1)\n",
    "X_2019 = uni_flu_2019_df['uninsured_rate_2019'].values.reshape(-1,1)\n",
    "\n",
    "#dependent variable\n",
    "y_2016 = uni_flu_2016_df.flu_cases_2016\n",
    "y_2017 = uni_flu_2017_df.flu_cases_2017\n",
    "y_2018 = uni_flu_2018_df.flu_cases_2018\n",
    "y_2019 = uni_flu_2019_df.flu_cases_2019"
   ]
  },
  {
   "cell_type": "code",
   "execution_count": 9,
   "metadata": {},
   "outputs": [],
   "source": [
    "# Split data io test and train\n",
    "X_2016_train, X_2016_test, y_2016_train, y_2016_test = train_test_split(\n",
    " X_2016, y_2016, random_state = 42)\n",
    "\n",
    "X_2017_train, X_2017_test, y_2017_train, y_2017_test = train_test_split(\n",
    " X_2017, y_2017, random_state = 42)\n",
    "\n",
    "X_2018_train, X_2018_test, y_2018_train, y_2018_test = train_test_split(\n",
    " X_2018, y_2018, random_state = 42)\n",
    "\n",
    "X_2019_train, X_2019_test, y_2019_train, y_2019_test = train_test_split(\n",
    " X_2019, y_2019, random_state = 42)"
   ]
  },
  {
   "cell_type": "code",
   "execution_count": 10,
   "metadata": {},
   "outputs": [],
   "source": [
    "# Scale data\n",
    "# Initialize scaler\n",
    "scaler = StandardScaler()\n",
    "\n",
    "# fit scaler to training data\n",
    "X_2016_train_scaled = scaler.fit_transform(X_2016_train)\n",
    "X_2017_train_scaled = scaler.fit_transform(X_2017_train)\n",
    "X_2018_train_scaled = scaler.fit_transform(X_2018_train)\n",
    "X_2019_train_scaled = scaler.fit_transform(X_2019_train)\n",
    "\n",
    "# fit scaler to testing data\n",
    "X_2016_test_scaled = scaler.fit_transform(X_2016_test)\n",
    "X_2017_test_scaled = scaler.fit_transform(X_2017_test)\n",
    "X_2018_test_scaled = scaler.fit_transform(X_2018_test)\n",
    "X_2019_test_scaled = scaler.fit_transform(X_2019_test)"
   ]
  },
  {
   "cell_type": "code",
   "execution_count": 11,
   "metadata": {},
   "outputs": [
    {
     "name": "stdout",
     "output_type": "stream",
     "text": [
      "Coefficients:  [6244.83308426]\n",
      "Mean squared error: 817986324.37\n",
      "Coefficinet of determination: -0.46\n",
      "\n",
      "\n",
      "Coefficients:  [6244.83308426]\n",
      "Mean squared error: 852362747.28\n",
      "Coefficinet of determination: -0.32\n",
      "\n",
      "\n",
      "Coefficients:  [6244.83308426]\n",
      "Mean squared error: 1239045872.19\n",
      "Coefficinet of determination: -0.17\n",
      "\n",
      "\n",
      "Coefficients:  [6244.83308426]\n",
      "Mean squared error: 1524628809.65\n",
      "Coefficinet of determination: -0.18\n",
      "\n",
      "\n"
     ]
    }
   ],
   "source": [
    "# Build Linear regression model\n",
    "model = LinearRegression()\n",
    "\n",
    "# Fit model for 2016\n",
    "lin_reg_2016 = model.fit(X_2016_train_scaled, y_2016_train)\n",
    "lin_reg_2017 = model.fit(X_2017_train_scaled, y_2017_train)\n",
    "lin_reg_2018 = model.fit(X_2018_train_scaled, y_2018_train)\n",
    "lin_reg_2019 = model.fit(X_2019_train_scaled, y_2019_train)\n",
    "\n",
    "# Predictions\n",
    "y_2016_pred = lin_reg_2016.predict(X_2016_test_scaled)\n",
    "y_2017_pred = lin_reg_2017.predict(X_2017_test_scaled)\n",
    "y_2018_pred = lin_reg_2018.predict(X_2018_test_scaled)\n",
    "y_2019_pred = lin_reg_2019.predict(X_2019_test_scaled)\n",
    "\n",
    "# Print 2016 coefficients\n",
    "print(\"Coefficients: \", lin_reg_2016.coef_)\n",
    "# Print 2016 mean squared error\n",
    "print(\"Mean squared error: %.2f\"\n",
    "      % mean_squared_error(y_2016_test, y_2016_pred))\n",
    "# Print coefficients of determination\n",
    "print('Coefficinet of determination: %.2f'\n",
    "      % r2_score(y_2016_test, y_2016_pred))\n",
    "print(\"\\n\")\n",
    "\n",
    "# Print 2017 coefficients\n",
    "print(\"Coefficients: \", lin_reg_2017.coef_)\n",
    "# Print 2017 mean squared error\n",
    "print(\"Mean squared error: %.2f\"\n",
    "      % mean_squared_error(y_2017_test, y_2017_pred))\n",
    "# Print coefficients of determination\n",
    "print('Coefficinet of determination: %.2f'\n",
    "      % r2_score(y_2017_test, y_2017_pred))\n",
    "print(\"\\n\")\n",
    "\n",
    "# Print 2018 coefficients\n",
    "print(\"Coefficients: \", lin_reg_2018.coef_)\n",
    "# Print 2018 mean squared error\n",
    "print(\"Mean squared error: %.2f\"\n",
    "      % mean_squared_error(y_2018_test, y_2018_pred))\n",
    "# Print coefficients of determination\n",
    "print('Coefficinet of determination: %.2f'\n",
    "      % r2_score(y_2018_test, y_2018_pred))\n",
    "print(\"\\n\")\n",
    "\n",
    "# Print 2019 coefficients\n",
    "print(\"Coefficients: \", lin_reg_2019.coef_)\n",
    "# Print 2019 mean squared error\n",
    "print(\"Mean squared error: %.2f\"\n",
    "      % mean_squared_error(y_2019_test, y_2019_pred))\n",
    "# Print coefficients of determination\n",
    "print('Coefficinet of determination: %.2f'\n",
    "      % r2_score(y_2019_test, y_2019_pred))\n",
    "print(\"\\n\")\n"
   ]
  },
  {
   "cell_type": "code",
   "execution_count": 12,
   "metadata": {
    "scrolled": true
   },
   "outputs": [
    {
     "data": {
      "image/png": "[encoded data removed]",
      "text/plain": [
       "<Figure size 432x288 with 1 Axes>"
      ]
     },
     "metadata": {},
     "output_type": "display_data"
    }
   ],
   "source": [
    "# Plot the simple linear regression 2016\n",
    "plt.scatter(X_2016_test_scaled, y_2016_test, color='black')\n",
    "plt.plot(X_2016_test_scaled, y_2016_pred, color='red', linewidth=3)\n",
    "\n",
    "plt.xticks(())\n",
    "plt.yticks(())\n",
    "\n",
    "plt.show()"
   ]
  },
  {
   "cell_type": "code",
   "execution_count": 13,
   "metadata": {
    "scrolled": true
   },
   "outputs": [
    {
     "data": {
      "image/png": "[encoded data removed]",
      "text/plain": [
       "<Figure size 432x288 with 1 Axes>"
      ]
     },
     "metadata": {},
     "output_type": "display_data"
    }
   ],
   "source": [
    "# Plot the simple linear regression 2017\n",
    "plt.scatter(X_2017_test_scaled, y_2017_test, color='black')\n",
    "plt.plot(X_2017_test_scaled, y_2017_pred, color='red', linewidth=3)\n",
    "\n",
    "plt.xticks(())\n",
    "plt.yticks(())\n",
    "\n",
    "plt.show()"
   ]
  },
  {
   "cell_type": "code",
   "execution_count": 14,
   "metadata": {
    "scrolled": true
   },
   "outputs": [
    {
     "data": {
      "image/png": "[encoded data removed]",
      "text/plain": [
       "<Figure size 432x288 with 1 Axes>"
      ]
     },
     "metadata": {},
     "output_type": "display_data"
    }
   ],
   "source": [
    "# Plot the simple linear regression 2018\n",
    "plt.scatter(X_2018_test_scaled, y_2018_test, color='black')\n",
    "plt.plot(X_2018_test_scaled, y_2018_pred, color='red', linewidth=3)\n",
    "\n",
    "plt.xticks(())\n",
    "plt.yticks(())\n",
    "\n",
    "plt.show()"
   ]
  },
  {
   "cell_type": "code",
   "execution_count": 15,
   "metadata": {
    "scrolled": true
   },
   "outputs": [
    {
     "data": {
      "image/png": "[encoded data removed]",
      "text/plain": [
       "<Figure size 432x288 with 1 Axes>"
      ]
     },
     "metadata": {},
     "output_type": "display_data"
    }
   ],
   "source": [
    "# Plot the simple linear regression 2019\n",
    "plt.scatter(X_2019_test_scaled, y_2019_test, color='black')\n",
    "plt.plot(X_2019_test_scaled, y_2019_pred, color='red', linewidth=3)\n",
    "\n",
    "plt.xticks(())\n",
    "plt.yticks(())\n",
    "\n",
    "plt.show()"
   ]
  }
 ],
 "metadata": {
  "kernelspec": {
   "display_name": "PythonData",
   "language": "python",
   "name": "pythondata"
  },
  "language_info": {
   "codemirror_mode": {
    "name": "ipython",
    "version": 3
   },
   "file_extension": ".py",
   "mimetype": "text/x-python",
   "name": "python",
   "nbconvert_exporter": "python",
   "pygments_lexer": "ipython3",
   "version": "3.7.7"
  }
 },
 "nbformat": 4,
 "nbformat_minor": 4
}
