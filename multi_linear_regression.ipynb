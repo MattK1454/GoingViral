{
 "cells": [
  {
   "cell_type": "code",
   "execution_count": 1,
   "metadata": {},
   "outputs": [],
   "source": [
    "# Import dependencies\n",
    "import pandas as pd\n",
    "import numpy as np\n",
    "import seaborn as sns\n",
    "import matplotlib.pyplot as plt\n",
    "from sklearn.model_selection import train_test_split\n",
    "from sklearn.linear_model import LinearRegression\n",
    "from sklearn.preprocessing import StandardScaler\n",
    "from sklearn.metrics import mean_squared_error, r2_score\n",
    "from sqlalchemy import create_engine\n",
    "from config import user, db_password, host, database"
   ]
  },
  {
   "cell_type": "code",
   "execution_count": 2,
   "metadata": {},
   "outputs": [],
   "source": [
    "# Create the database engine\n",
    "engine = create_engine(f\"postgres://{user}:{db_password}@{host}:5432/{database}\")"
   ]
  },
  {
   "cell_type": "code",
   "execution_count": 3,
   "metadata": {},
   "outputs": [
    {
     "data": {
      "text/html": [
       "<div>\n",
       "<style scoped>\n",
       "    .dataframe tbody tr th:only-of-type {\n",
       "        vertical-align: middle;\n",
       "    }\n",
       "\n",
       "    .dataframe tbody tr th {\n",
       "        vertical-align: top;\n",
       "    }\n",
       "\n",
       "    .dataframe thead th {\n",
       "        text-align: right;\n",
       "    }\n",
       "</style>\n",
       "<table border=\"1\" class=\"dataframe\">\n",
       "  <thead>\n",
       "    <tr style=\"text-align: right;\">\n",
       "      <th></th>\n",
       "      <th>﻿State</th>\n",
       "      <th>xx</th>\n",
       "      <th>2016 Population Density (persons/square mile)</th>\n",
       "      <th>2017 Population Density (persons/square mile)</th>\n",
       "      <th>2018 Population Density (persons/square mile)</th>\n",
       "      <th>2019 Population Density (persons/square mile)</th>\n",
       "      <th>state</th>\n",
       "      <th>2016</th>\n",
       "      <th>2017</th>\n",
       "      <th>2018</th>\n",
       "      <th>2019</th>\n",
       "    </tr>\n",
       "  </thead>\n",
       "  <tbody>\n",
       "  </tbody>\n",
       "</table>\n",
       "</div>"
      ],
      "text/plain": [
       "Empty DataFrame\n",
       "Columns: [﻿State, xx, 2016 Population Density (persons/square mile), 2017 Population Density (persons/square mile), 2018 Population Density (persons/square mile), 2019 Population Density (persons/square mile), state, 2016, 2017, 2018, 2019]\n",
       "Index: []"
      ]
     },
     "execution_count": 3,
     "metadata": {},
     "output_type": "execute_result"
    }
   ],
   "source": [
    "# Create total features table from database tables\n",
    "total_table_df = pd.read_sql_query(\"\"\"SELECT * \n",
    "                                      FROM population_density_by_state as pop\n",
    "                                         JOIN public.cleaned_flu_csv as flu\n",
    "                                         ON 'pop.State' = flu.state\"\"\", con=engine)\n",
    "\n",
    "total_table_df.head()"
   ]
  },
  {
   "cell_type": "code",
   "execution_count": 4,
   "metadata": {},
   "outputs": [],
   "source": [
    "#Import population density by state table and check column names\n",
    "\n",
    "# Create population density dataframe\n",
    "pop_df = pd.read_sql_query(\"SELECT * FROM population_density_by_state\", con=engine)\n",
    "\n",
    "# Create uninsured dataframe\n",
    "uni_df = pd.read_sql_query(\"SELECT * FROM uninsured_rates_by_state\", con=engine)\n",
    "\n",
    "# Create gdp dataframe\n",
    "gdp_df = pd.read_sql_query(\"SELECT * FROM cleaned_gbp_csv\", con=engine)\n",
    "\n",
    "# Create flu dataframe\n",
    "flu_df = pd.read_sql_query(\"SELECT * FROM cleaned_flu_csv\", con=engine)"
   ]
  },
  {
   "cell_type": "code",
   "execution_count": 5,
   "metadata": {},
   "outputs": [
    {
     "data": {
      "text/plain": [
       "Index(['﻿State', 'xx', '2016 Population Density (persons/square mile)',\n",
       "       '2017 Population Density (persons/square mile)',\n",
       "       '2018 Population Density (persons/square mile)',\n",
       "       '2019 Population Density (persons/square mile)'],\n",
       "      dtype='object')"
      ]
     },
     "execution_count": 5,
     "metadata": {},
     "output_type": "execute_result"
    }
   ],
   "source": [
    "# Check the pop_df out\n",
    "pop_df.head()\n",
    "\n",
    "pop_df.columns"
   ]
  },
  {
   "cell_type": "code",
   "execution_count": 6,
   "metadata": {},
   "outputs": [
    {
     "data": {
      "text/plain": [
       "Index(['﻿State', 'Uninsured Rate 2016', 'Uninsured Rate 2017',\n",
       "       'Uninsured Rate 2018', 'Uninsured Rate 2019'],\n",
       "      dtype='object')"
      ]
     },
     "execution_count": 6,
     "metadata": {},
     "output_type": "execute_result"
    }
   ],
   "source": [
    "# Check out the uninsured dataframe\n",
    "uni_df.head()\n",
    "\n",
    "uni_df.columns"
   ]
  },
  {
   "cell_type": "code",
   "execution_count": 7,
   "metadata": {},
   "outputs": [
    {
     "data": {
      "text/plain": [
       "Index(['state_name', 'gdp_2016', 'gdp_2017', 'gdp_2018', 'gdp_2019'], dtype='object')"
      ]
     },
     "execution_count": 7,
     "metadata": {},
     "output_type": "execute_result"
    }
   ],
   "source": [
    "# Check out the gdp dataframe\n",
    "gdp_df.head()\n",
    "\n",
    "gdp_df = gdp_df.drop(columns=[\"column1\", \"description\", \"gdp_2015\"])\n",
    "\n",
    "gdp_df.columns"
   ]
  },
  {
   "cell_type": "code",
   "execution_count": 8,
   "metadata": {},
   "outputs": [
    {
     "data": {
      "text/plain": [
       "Index(['state', '2016', '2017', '2018', '2019'], dtype='object')"
      ]
     },
     "execution_count": 8,
     "metadata": {},
     "output_type": "execute_result"
    }
   ],
   "source": [
    "# Check out the flu_df\n",
    "flu_df.head()\n",
    "\n",
    "flu_df.columns"
   ]
  },
  {
   "cell_type": "code",
   "execution_count": 9,
   "metadata": {},
   "outputs": [],
   "source": [
    "# Create an index list\n",
    "# pop_df.columns[0]"
   ]
  },
  {
   "cell_type": "code",
   "execution_count": 10,
   "metadata": {},
   "outputs": [
    {
     "data": {
      "text/html": [
       "<div>\n",
       "<style scoped>\n",
       "    .dataframe tbody tr th:only-of-type {\n",
       "        vertical-align: middle;\n",
       "    }\n",
       "\n",
       "    .dataframe tbody tr th {\n",
       "        vertical-align: top;\n",
       "    }\n",
       "\n",
       "    .dataframe thead th {\n",
       "        text-align: right;\n",
       "    }\n",
       "</style>\n",
       "<table border=\"1\" class=\"dataframe\">\n",
       "  <thead>\n",
       "    <tr style=\"text-align: right;\">\n",
       "      <th></th>\n",
       "      <th>﻿State</th>\n",
       "      <th>xx</th>\n",
       "      <th>2016 Population Density (persons/square mile)</th>\n",
       "      <th>2017 Population Density (persons/square mile)</th>\n",
       "      <th>2018 Population Density (persons/square mile)</th>\n",
       "      <th>2019 Population Density (persons/square mile)</th>\n",
       "      <th>Uninsured Rate 2016</th>\n",
       "      <th>Uninsured Rate 2017</th>\n",
       "      <th>Uninsured Rate 2018</th>\n",
       "      <th>Uninsured Rate 2019</th>\n",
       "      <th>gdp_2016</th>\n",
       "      <th>gdp_2017</th>\n",
       "      <th>gdp_2018</th>\n",
       "      <th>gdp_2019</th>\n",
       "    </tr>\n",
       "  </thead>\n",
       "  <tbody>\n",
       "    <tr>\n",
       "      <th>0</th>\n",
       "      <td>Alabama</td>\n",
       "      <td>50,645.39</td>\n",
       "      <td>96.03</td>\n",
       "      <td>96.25</td>\n",
       "      <td>96.51</td>\n",
       "      <td>96.81</td>\n",
       "      <td>9.1</td>\n",
       "      <td>9.4</td>\n",
       "      <td>10.0</td>\n",
       "      <td>9.7</td>\n",
       "      <td>191523.0</td>\n",
       "      <td>193693.0</td>\n",
       "      <td>198053.0</td>\n",
       "      <td>200829.0</td>\n",
       "    </tr>\n",
       "    <tr>\n",
       "      <th>1</th>\n",
       "      <td>Alaska</td>\n",
       "      <td>570640.61</td>\n",
       "      <td>1.30</td>\n",
       "      <td>1.30</td>\n",
       "      <td>1.29</td>\n",
       "      <td>1.28</td>\n",
       "      <td>14.0</td>\n",
       "      <td>13.7</td>\n",
       "      <td>12.0</td>\n",
       "      <td>12.2</td>\n",
       "      <td>53289.0</td>\n",
       "      <td>52825.0</td>\n",
       "      <td>52928.0</td>\n",
       "      <td>53255.0</td>\n",
       "    </tr>\n",
       "    <tr>\n",
       "      <th>2</th>\n",
       "      <td>Arizona</td>\n",
       "      <td>113,593.91</td>\n",
       "      <td>61.10</td>\n",
       "      <td>62.01</td>\n",
       "      <td>63.01</td>\n",
       "      <td>64.08</td>\n",
       "      <td>10.0</td>\n",
       "      <td>10.1</td>\n",
       "      <td>10.0</td>\n",
       "      <td>11.3</td>\n",
       "      <td>291259.0</td>\n",
       "      <td>302117.0</td>\n",
       "      <td>314016.0</td>\n",
       "      <td>323597.0</td>\n",
       "    </tr>\n",
       "    <tr>\n",
       "      <th>3</th>\n",
       "      <td>Arkansas</td>\n",
       "      <td>52,035.35</td>\n",
       "      <td>57.46</td>\n",
       "      <td>57.68</td>\n",
       "      <td>57.84</td>\n",
       "      <td>58.00</td>\n",
       "      <td>7.9</td>\n",
       "      <td>7.9</td>\n",
       "      <td>8.0</td>\n",
       "      <td>9.1</td>\n",
       "      <td>113490.0</td>\n",
       "      <td>114950.0</td>\n",
       "      <td>116698.0</td>\n",
       "      <td>117447.0</td>\n",
       "    </tr>\n",
       "    <tr>\n",
       "      <th>4</th>\n",
       "      <td>California</td>\n",
       "      <td>155,779.03</td>\n",
       "      <td>251.43</td>\n",
       "      <td>252.66</td>\n",
       "      <td>253.32</td>\n",
       "      <td>253.64</td>\n",
       "      <td>7.3</td>\n",
       "      <td>7.2</td>\n",
       "      <td>7.0</td>\n",
       "      <td>7.7</td>\n",
       "      <td>2519133.0</td>\n",
       "      <td>2628314.0</td>\n",
       "      <td>2708966.0</td>\n",
       "      <td>2800505.0</td>\n",
       "    </tr>\n",
       "  </tbody>\n",
       "</table>\n",
       "</div>"
      ],
      "text/plain": [
       "       ﻿State          xx  2016 Population Density (persons/square mile)  \\\n",
       "0     Alabama   50,645.39                                          96.03   \n",
       "1      Alaska   570640.61                                           1.30   \n",
       "2     Arizona  113,593.91                                          61.10   \n",
       "3    Arkansas   52,035.35                                          57.46   \n",
       "4  California  155,779.03                                         251.43   \n",
       "\n",
       "   2017 Population Density (persons/square mile)  \\\n",
       "0                                          96.25   \n",
       "1                                           1.30   \n",
       "2                                          62.01   \n",
       "3                                          57.68   \n",
       "4                                         252.66   \n",
       "\n",
       "   2018 Population Density (persons/square mile)  \\\n",
       "0                                          96.51   \n",
       "1                                           1.29   \n",
       "2                                          63.01   \n",
       "3                                          57.84   \n",
       "4                                         253.32   \n",
       "\n",
       "   2019 Population Density (persons/square mile)  Uninsured Rate 2016  \\\n",
       "0                                          96.81                  9.1   \n",
       "1                                           1.28                 14.0   \n",
       "2                                          64.08                 10.0   \n",
       "3                                          58.00                  7.9   \n",
       "4                                         253.64                  7.3   \n",
       "\n",
       "   Uninsured Rate 2017  Uninsured Rate 2018  Uninsured Rate 2019   gdp_2016  \\\n",
       "0                  9.4                 10.0                  9.7   191523.0   \n",
       "1                 13.7                 12.0                 12.2    53289.0   \n",
       "2                 10.1                 10.0                 11.3   291259.0   \n",
       "3                  7.9                  8.0                  9.1   113490.0   \n",
       "4                  7.2                  7.0                  7.7  2519133.0   \n",
       "\n",
       "    gdp_2017   gdp_2018   gdp_2019  \n",
       "0   193693.0   198053.0   200829.0  \n",
       "1    52825.0    52928.0    53255.0  \n",
       "2   302117.0   314016.0   323597.0  \n",
       "3   114950.0   116698.0   117447.0  \n",
       "4  2628314.0  2708966.0  2800505.0  "
      ]
     },
     "execution_count": 10,
     "metadata": {},
     "output_type": "execute_result"
    }
   ],
   "source": [
    "# Merge dataframes\n",
    "flu_factors_df = pop_df.merge(uni_df, how=\"left\")\n",
    "\n",
    "flu_factors_df = pd.concat([flu_factors_df, gdp_df], axis=1)\n",
    "\n",
    "flu_factors_df = flu_factors_df.drop(flu_factors_df.columns[10], axis = 1)\n",
    "\n",
    "flu_factors_df.head()"
   ]
  },
  {
   "cell_type": "code",
   "execution_count": null,
   "metadata": {},
   "outputs": [],
   "source": []
  }
 ],
 "metadata": {
  "kernelspec": {
   "display_name": "PythonData",
   "language": "python",
   "name": "pythondata"
  },
  "language_info": {
   "codemirror_mode": {
    "name": "ipython",
    "version": 3
   },
   "file_extension": ".py",
   "mimetype": "text/x-python",
   "name": "python",
   "nbconvert_exporter": "python",
   "pygments_lexer": "ipython3",
   "version": "3.7.7"
  }
 },
 "nbformat": 4,
 "nbformat_minor": 4
}
