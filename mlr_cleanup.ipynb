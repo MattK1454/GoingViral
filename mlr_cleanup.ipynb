{
 "cells": [
  {
   "cell_type": "markdown",
   "metadata": {},
   "source": [
    "## Data Cleanup and Exploration"
   ]
  },
  {
   "cell_type": "code",
   "execution_count": 2,
   "metadata": {},
   "outputs": [],
   "source": [
    "import pandas as pd\n",
    "from sqlalchemy import create_engine\n",
    "import matplotlib.pyplot as plt\n",
    "from matplotlib import pyplot as plt\n",
    "import seaborn as sns\n",
    "import numpy\n",
    "from path import Path\n",
    "from config import db_URI"
   ]
  },
  {
   "cell_type": "code",
   "execution_count": 3,
   "metadata": {},
   "outputs": [],
   "source": [
    "engine = create_engine(db_URI)"
   ]
  },
  {
   "cell_type": "code",
   "execution_count": 5,
   "metadata": {},
   "outputs": [
    {
     "name": "stdout",
     "output_type": "stream",
     "text": [
      "(50, 8)\n"
     ]
    },
    {
     "data": {
      "text/html": [
       "<div>\n",
       "<style scoped>\n",
       "    .dataframe tbody tr th:only-of-type {\n",
       "        vertical-align: middle;\n",
       "    }\n",
       "\n",
       "    .dataframe tbody tr th {\n",
       "        vertical-align: top;\n",
       "    }\n",
       "\n",
       "    .dataframe thead th {\n",
       "        text-align: right;\n",
       "    }\n",
       "</style>\n",
       "<table border=\"1\" class=\"dataframe\">\n",
       "  <thead>\n",
       "    <tr style=\"text-align: right;\">\n",
       "      <th></th>\n",
       "      <th>column1</th>\n",
       "      <th>state_name</th>\n",
       "      <th>description</th>\n",
       "      <th>gdp_2015</th>\n",
       "      <th>gdp_2016</th>\n",
       "      <th>gdp_2017</th>\n",
       "      <th>gdp_2018</th>\n",
       "      <th>gdp_2019</th>\n",
       "    </tr>\n",
       "  </thead>\n",
       "  <tbody>\n",
       "    <tr>\n",
       "      <th>0</th>\n",
       "      <td>8</td>\n",
       "      <td>Alabama</td>\n",
       "      <td>Real GDP (millions of chained 2012 dollars)</td>\n",
       "      <td>189428</td>\n",
       "      <td>191523</td>\n",
       "      <td>193693</td>\n",
       "      <td>198053</td>\n",
       "      <td>200829</td>\n",
       "    </tr>\n",
       "    <tr>\n",
       "      <th>1</th>\n",
       "      <td>16</td>\n",
       "      <td>Alaska</td>\n",
       "      <td>Real GDP (millions of chained 2012 dollars)</td>\n",
       "      <td>54015</td>\n",
       "      <td>53289</td>\n",
       "      <td>52825</td>\n",
       "      <td>52928</td>\n",
       "      <td>53255</td>\n",
       "    </tr>\n",
       "    <tr>\n",
       "      <th>2</th>\n",
       "      <td>24</td>\n",
       "      <td>Arizona</td>\n",
       "      <td>Real GDP (millions of chained 2012 dollars)</td>\n",
       "      <td>281935</td>\n",
       "      <td>291259</td>\n",
       "      <td>302117</td>\n",
       "      <td>314016</td>\n",
       "      <td>323597</td>\n",
       "    </tr>\n",
       "    <tr>\n",
       "      <th>3</th>\n",
       "      <td>32</td>\n",
       "      <td>Arkansas</td>\n",
       "      <td>Real GDP (millions of chained 2012 dollars)</td>\n",
       "      <td>112938</td>\n",
       "      <td>113490</td>\n",
       "      <td>114950</td>\n",
       "      <td>116698</td>\n",
       "      <td>117447</td>\n",
       "    </tr>\n",
       "    <tr>\n",
       "      <th>4</th>\n",
       "      <td>40</td>\n",
       "      <td>California</td>\n",
       "      <td>Real GDP (millions of chained 2012 dollars)</td>\n",
       "      <td>2437366</td>\n",
       "      <td>2519133</td>\n",
       "      <td>2628314</td>\n",
       "      <td>2708966</td>\n",
       "      <td>2800505</td>\n",
       "    </tr>\n",
       "  </tbody>\n",
       "</table>\n",
       "</div>"
      ],
      "text/plain": [
       "   column1  state_name                                    description  \\\n",
       "0        8     Alabama  Real GDP (millions of chained 2012 dollars)     \n",
       "1       16      Alaska  Real GDP (millions of chained 2012 dollars)     \n",
       "2       24     Arizona  Real GDP (millions of chained 2012 dollars)     \n",
       "3       32    Arkansas  Real GDP (millions of chained 2012 dollars)     \n",
       "4       40  California  Real GDP (millions of chained 2012 dollars)     \n",
       "\n",
       "   gdp_2015  gdp_2016  gdp_2017  gdp_2018  gdp_2019  \n",
       "0    189428    191523    193693    198053    200829  \n",
       "1     54015     53289     52825     52928     53255  \n",
       "2    281935    291259    302117    314016    323597  \n",
       "3    112938    113490    114950    116698    117447  \n",
       "4   2437366   2519133   2628314   2708966   2800505  "
      ]
     },
     "execution_count": 5,
     "metadata": {},
     "output_type": "execute_result"
    }
   ],
   "source": [
    "# Importing GDP from the database\n",
    "gdp_df = pd.read_sql_query(\"select * from cleaned_gbp_csv\", con=engine)\n",
    "print(gdp_df.shape)\n",
    "gdp_df.head()"
   ]
  },
  {
   "cell_type": "code",
   "execution_count": 6,
   "metadata": {},
   "outputs": [],
   "source": [
    "# Drop uneccessary columns\n",
    "gdp_df = gdp_df.drop(columns=['column1','description','gdp_2015'])"
   ]
  },
  {
   "cell_type": "code",
   "execution_count": 7,
   "metadata": {},
   "outputs": [
    {
     "name": "stdout",
     "output_type": "stream",
     "text": [
      "(50, 5)\n"
     ]
    }
   ],
   "source": [
    "# Renaming the columns\n",
    "gdp_df.rename(columns = {'state_name':'State', \n",
    "                              'gdp_2016':'2016','gdp_2017':'2017','gdp_2018':'2018','gdp_2019':'2019'}, inplace = True)\n",
    "print(gdp_df.shape)"
   ]
  },
  {
   "cell_type": "code",
   "execution_count": 8,
   "metadata": {},
   "outputs": [
    {
     "name": "stdout",
     "output_type": "stream",
     "text": [
      "(200, 3)\n"
     ]
    },
    {
     "data": {
      "text/html": [
       "<div>\n",
       "<style scoped>\n",
       "    .dataframe tbody tr th:only-of-type {\n",
       "        vertical-align: middle;\n",
       "    }\n",
       "\n",
       "    .dataframe tbody tr th {\n",
       "        vertical-align: top;\n",
       "    }\n",
       "\n",
       "    .dataframe thead th {\n",
       "        text-align: right;\n",
       "    }\n",
       "</style>\n",
       "<table border=\"1\" class=\"dataframe\">\n",
       "  <thead>\n",
       "    <tr style=\"text-align: right;\">\n",
       "      <th></th>\n",
       "      <th>State</th>\n",
       "      <th>Year</th>\n",
       "      <th>GDP</th>\n",
       "    </tr>\n",
       "  </thead>\n",
       "  <tbody>\n",
       "    <tr>\n",
       "      <th>0</th>\n",
       "      <td>Alabama</td>\n",
       "      <td>2016</td>\n",
       "      <td>191523</td>\n",
       "    </tr>\n",
       "    <tr>\n",
       "      <th>1</th>\n",
       "      <td>Alaska</td>\n",
       "      <td>2016</td>\n",
       "      <td>53289</td>\n",
       "    </tr>\n",
       "    <tr>\n",
       "      <th>2</th>\n",
       "      <td>Arizona</td>\n",
       "      <td>2016</td>\n",
       "      <td>291259</td>\n",
       "    </tr>\n",
       "    <tr>\n",
       "      <th>3</th>\n",
       "      <td>Arkansas</td>\n",
       "      <td>2016</td>\n",
       "      <td>113490</td>\n",
       "    </tr>\n",
       "    <tr>\n",
       "      <th>4</th>\n",
       "      <td>California</td>\n",
       "      <td>2016</td>\n",
       "      <td>2519133</td>\n",
       "    </tr>\n",
       "  </tbody>\n",
       "</table>\n",
       "</div>"
      ],
      "text/plain": [
       "        State  Year      GDP\n",
       "0     Alabama  2016   191523\n",
       "1      Alaska  2016    53289\n",
       "2     Arizona  2016   291259\n",
       "3    Arkansas  2016   113490\n",
       "4  California  2016  2519133"
      ]
     },
     "execution_count": 8,
     "metadata": {},
     "output_type": "execute_result"
    }
   ],
   "source": [
    "# # Unpivot the df from wide to long format\n",
    "gdp_df1 = pd.melt(gdp_df, id_vars=['State'], var_name='Year', value_name='GDP')\n",
    "print(gdp_df1.shape)\n",
    "gdp_df1.head()"
   ]
  },
  {
   "cell_type": "code",
   "execution_count": 9,
   "metadata": {},
   "outputs": [],
   "source": [
    "# Saving the GDP data to the database\n",
    "gdp_df1.to_csv(\"cleaned_gdp_data.csv\")"
   ]
  },
  {
   "cell_type": "code",
   "execution_count": 10,
   "metadata": {},
   "outputs": [
    {
     "name": "stdout",
     "output_type": "stream",
     "text": [
      "(50, 5)\n"
     ]
    },
    {
     "data": {
      "text/html": [
       "<div>\n",
       "<style scoped>\n",
       "    .dataframe tbody tr th:only-of-type {\n",
       "        vertical-align: middle;\n",
       "    }\n",
       "\n",
       "    .dataframe tbody tr th {\n",
       "        vertical-align: top;\n",
       "    }\n",
       "\n",
       "    .dataframe thead th {\n",
       "        text-align: right;\n",
       "    }\n",
       "</style>\n",
       "<table border=\"1\" class=\"dataframe\">\n",
       "  <thead>\n",
       "    <tr style=\"text-align: right;\">\n",
       "      <th></th>\n",
       "      <th>state</th>\n",
       "      <th>2016_cases_percent</th>\n",
       "      <th>2017_cases_percent</th>\n",
       "      <th>2018_cases_percent</th>\n",
       "      <th>2019_cases_percent</th>\n",
       "    </tr>\n",
       "  </thead>\n",
       "  <tbody>\n",
       "    <tr>\n",
       "      <th>0</th>\n",
       "      <td>Alabama</td>\n",
       "      <td>0.237399828</td>\n",
       "      <td>0.551401727</td>\n",
       "      <td>1.309393964</td>\n",
       "      <td>1.40161956</td>\n",
       "    </tr>\n",
       "    <tr>\n",
       "      <th>1</th>\n",
       "      <td>Alaska</td>\n",
       "      <td>0.143366565</td>\n",
       "      <td>0.446937948</td>\n",
       "      <td>1.136111674</td>\n",
       "      <td>1.127613476</td>\n",
       "    </tr>\n",
       "    <tr>\n",
       "      <th>2</th>\n",
       "      <td>Arizona</td>\n",
       "      <td>0.322226884</td>\n",
       "      <td>0.320030869</td>\n",
       "      <td>0.343307036</td>\n",
       "      <td>0.281697997</td>\n",
       "    </tr>\n",
       "    <tr>\n",
       "      <th>3</th>\n",
       "      <td>Arkansas</td>\n",
       "      <td>0.096424049</td>\n",
       "      <td>0.174888258</td>\n",
       "      <td>0.193738116</td>\n",
       "      <td>0.196798732</td>\n",
       "    </tr>\n",
       "    <tr>\n",
       "      <th>4</th>\n",
       "      <td>California</td>\n",
       "      <td>0.112745087</td>\n",
       "      <td>0.117120834</td>\n",
       "      <td>0.132161433</td>\n",
       "      <td>0.132136327</td>\n",
       "    </tr>\n",
       "  </tbody>\n",
       "</table>\n",
       "</div>"
      ],
      "text/plain": [
       "        state 2016_cases_percent 2017_cases_percent 2018_cases_percent  \\\n",
       "0     Alabama        0.237399828        0.551401727        1.309393964   \n",
       "1      Alaska        0.143366565        0.446937948        1.136111674   \n",
       "2     Arizona        0.322226884        0.320030869        0.343307036   \n",
       "3    Arkansas        0.096424049        0.174888258        0.193738116   \n",
       "4  California        0.112745087        0.117120834        0.132161433   \n",
       "\n",
       "  2019_cases_percent  \n",
       "0         1.40161956  \n",
       "1        1.127613476  \n",
       "2        0.281697997  \n",
       "3        0.196798732  \n",
       "4        0.132136327  "
      ]
     },
     "execution_count": 10,
     "metadata": {},
     "output_type": "execute_result"
    }
   ],
   "source": [
    "# Importing flu from the database\n",
    "flu_df = pd.read_sql_query(\"select * from flu_percentages\" , con=engine)\n",
    "print(flu_df.shape)\n",
    "flu_df.head()"
   ]
  },
  {
   "cell_type": "code",
   "execution_count": 11,
   "metadata": {},
   "outputs": [],
   "source": [
    "# Renaming the columns\n",
    "flu_df.rename(columns = {'state':'State','2016_cases_percent':'2016','2017_cases_percent':'2017','2018_cases_percent':'2018','2019_cases_percent':'2019'}, inplace = True)"
   ]
  },
  {
   "cell_type": "code",
   "execution_count": 12,
   "metadata": {},
   "outputs": [
    {
     "name": "stdout",
     "output_type": "stream",
     "text": [
      "(200, 3)\n"
     ]
    },
    {
     "data": {
      "text/html": [
       "<div>\n",
       "<style scoped>\n",
       "    .dataframe tbody tr th:only-of-type {\n",
       "        vertical-align: middle;\n",
       "    }\n",
       "\n",
       "    .dataframe tbody tr th {\n",
       "        vertical-align: top;\n",
       "    }\n",
       "\n",
       "    .dataframe thead th {\n",
       "        text-align: right;\n",
       "    }\n",
       "</style>\n",
       "<table border=\"1\" class=\"dataframe\">\n",
       "  <thead>\n",
       "    <tr style=\"text-align: right;\">\n",
       "      <th></th>\n",
       "      <th>State</th>\n",
       "      <th>Year</th>\n",
       "      <th>Flu_%</th>\n",
       "    </tr>\n",
       "  </thead>\n",
       "  <tbody>\n",
       "    <tr>\n",
       "      <th>0</th>\n",
       "      <td>Alabama</td>\n",
       "      <td>2016</td>\n",
       "      <td>0.237399828</td>\n",
       "    </tr>\n",
       "    <tr>\n",
       "      <th>1</th>\n",
       "      <td>Alaska</td>\n",
       "      <td>2016</td>\n",
       "      <td>0.143366565</td>\n",
       "    </tr>\n",
       "    <tr>\n",
       "      <th>2</th>\n",
       "      <td>Arizona</td>\n",
       "      <td>2016</td>\n",
       "      <td>0.322226884</td>\n",
       "    </tr>\n",
       "    <tr>\n",
       "      <th>3</th>\n",
       "      <td>Arkansas</td>\n",
       "      <td>2016</td>\n",
       "      <td>0.096424049</td>\n",
       "    </tr>\n",
       "    <tr>\n",
       "      <th>4</th>\n",
       "      <td>California</td>\n",
       "      <td>2016</td>\n",
       "      <td>0.112745087</td>\n",
       "    </tr>\n",
       "  </tbody>\n",
       "</table>\n",
       "</div>"
      ],
      "text/plain": [
       "        State  Year        Flu_%\n",
       "0     Alabama  2016  0.237399828\n",
       "1      Alaska  2016  0.143366565\n",
       "2     Arizona  2016  0.322226884\n",
       "3    Arkansas  2016  0.096424049\n",
       "4  California  2016  0.112745087"
      ]
     },
     "execution_count": 12,
     "metadata": {},
     "output_type": "execute_result"
    }
   ],
   "source": [
    "# Unpivot the df from wide to long format\n",
    "flu_df1 = pd.melt(flu_df, id_vars=['State'], var_name='Year', value_name='Flu_%')\n",
    "print(flu_df1.shape)\n",
    "flu_df1.head()"
   ]
  },
  {
   "cell_type": "code",
   "execution_count": 13,
   "metadata": {},
   "outputs": [],
   "source": [
    "# Saving the flu data to the database\n",
    "flu_df1.to_csv(\"cleaned_flu_data.csv\")"
   ]
  },
  {
   "cell_type": "code",
   "execution_count": 15,
   "metadata": {},
   "outputs": [
    {
     "name": "stdout",
     "output_type": "stream",
     "text": [
      "(200, 4)\n"
     ]
    },
    {
     "data": {
      "text/html": [
       "<div>\n",
       "<style scoped>\n",
       "    .dataframe tbody tr th:only-of-type {\n",
       "        vertical-align: middle;\n",
       "    }\n",
       "\n",
       "    .dataframe tbody tr th {\n",
       "        vertical-align: top;\n",
       "    }\n",
       "\n",
       "    .dataframe thead th {\n",
       "        text-align: right;\n",
       "    }\n",
       "</style>\n",
       "<table border=\"1\" class=\"dataframe\">\n",
       "  <thead>\n",
       "    <tr style=\"text-align: right;\">\n",
       "      <th></th>\n",
       "      <th>State</th>\n",
       "      <th>Year</th>\n",
       "      <th>GDP</th>\n",
       "      <th>Flu_%</th>\n",
       "    </tr>\n",
       "  </thead>\n",
       "  <tbody>\n",
       "    <tr>\n",
       "      <th>0</th>\n",
       "      <td>Alabama</td>\n",
       "      <td>2016</td>\n",
       "      <td>191523</td>\n",
       "      <td>0.237399828</td>\n",
       "    </tr>\n",
       "    <tr>\n",
       "      <th>1</th>\n",
       "      <td>Alaska</td>\n",
       "      <td>2016</td>\n",
       "      <td>53289</td>\n",
       "      <td>0.143366565</td>\n",
       "    </tr>\n",
       "    <tr>\n",
       "      <th>2</th>\n",
       "      <td>Arizona</td>\n",
       "      <td>2016</td>\n",
       "      <td>291259</td>\n",
       "      <td>0.322226884</td>\n",
       "    </tr>\n",
       "    <tr>\n",
       "      <th>3</th>\n",
       "      <td>Arkansas</td>\n",
       "      <td>2016</td>\n",
       "      <td>113490</td>\n",
       "      <td>0.096424049</td>\n",
       "    </tr>\n",
       "    <tr>\n",
       "      <th>4</th>\n",
       "      <td>California</td>\n",
       "      <td>2016</td>\n",
       "      <td>2519133</td>\n",
       "      <td>0.112745087</td>\n",
       "    </tr>\n",
       "  </tbody>\n",
       "</table>\n",
       "</div>"
      ],
      "text/plain": [
       "        State  Year      GDP        Flu_%\n",
       "0     Alabama  2016   191523  0.237399828\n",
       "1      Alaska  2016    53289  0.143366565\n",
       "2     Arizona  2016   291259  0.322226884\n",
       "3    Arkansas  2016   113490  0.096424049\n",
       "4  California  2016  2519133  0.112745087"
      ]
     },
     "execution_count": 15,
     "metadata": {},
     "output_type": "execute_result"
    }
   ],
   "source": [
    "# Merging the gdp and flu % datasets\n",
    "cleaned_df = pd.merge(gdp_df1, flu_df1, on=[\"State\", \"Year\"])\n",
    "# cleaned_df = cleaned_df.drop(columns=['Year_y','state'])\n",
    "print(cleaned_df.shape)\n",
    "cleaned_df.head()"
   ]
  },
  {
   "cell_type": "code",
   "execution_count": 16,
   "metadata": {},
   "outputs": [
    {
     "name": "stdout",
     "output_type": "stream",
     "text": [
      "(50, 5)\n"
     ]
    },
    {
     "data": {
      "text/html": [
       "<div>\n",
       "<style scoped>\n",
       "    .dataframe tbody tr th:only-of-type {\n",
       "        vertical-align: middle;\n",
       "    }\n",
       "\n",
       "    .dataframe tbody tr th {\n",
       "        vertical-align: top;\n",
       "    }\n",
       "\n",
       "    .dataframe thead th {\n",
       "        text-align: right;\n",
       "    }\n",
       "</style>\n",
       "<table border=\"1\" class=\"dataframe\">\n",
       "  <thead>\n",
       "    <tr style=\"text-align: right;\">\n",
       "      <th></th>\n",
       "      <th>﻿State</th>\n",
       "      <th>Uninsured Rate 2016</th>\n",
       "      <th>Uninsured Rate 2017</th>\n",
       "      <th>Uninsured Rate 2018</th>\n",
       "      <th>Uninsured Rate 2019</th>\n",
       "    </tr>\n",
       "  </thead>\n",
       "  <tbody>\n",
       "    <tr>\n",
       "      <th>0</th>\n",
       "      <td>Alabama</td>\n",
       "      <td>9.1</td>\n",
       "      <td>9.4</td>\n",
       "      <td>10.0</td>\n",
       "      <td>9.7</td>\n",
       "    </tr>\n",
       "    <tr>\n",
       "      <th>1</th>\n",
       "      <td>Alaska</td>\n",
       "      <td>14.0</td>\n",
       "      <td>13.7</td>\n",
       "      <td>12.0</td>\n",
       "      <td>12.2</td>\n",
       "    </tr>\n",
       "    <tr>\n",
       "      <th>2</th>\n",
       "      <td>Arizona</td>\n",
       "      <td>10.0</td>\n",
       "      <td>10.1</td>\n",
       "      <td>10.0</td>\n",
       "      <td>11.3</td>\n",
       "    </tr>\n",
       "    <tr>\n",
       "      <th>3</th>\n",
       "      <td>Arkansas</td>\n",
       "      <td>7.9</td>\n",
       "      <td>7.9</td>\n",
       "      <td>8.0</td>\n",
       "      <td>9.1</td>\n",
       "    </tr>\n",
       "    <tr>\n",
       "      <th>4</th>\n",
       "      <td>California</td>\n",
       "      <td>7.3</td>\n",
       "      <td>7.2</td>\n",
       "      <td>7.0</td>\n",
       "      <td>7.7</td>\n",
       "    </tr>\n",
       "  </tbody>\n",
       "</table>\n",
       "</div>"
      ],
      "text/plain": [
       "       ﻿State  Uninsured Rate 2016  Uninsured Rate 2017  Uninsured Rate 2018  \\\n",
       "0     Alabama                  9.1                  9.4                 10.0   \n",
       "1      Alaska                 14.0                 13.7                 12.0   \n",
       "2     Arizona                 10.0                 10.1                 10.0   \n",
       "3    Arkansas                  7.9                  7.9                  8.0   \n",
       "4  California                  7.3                  7.2                  7.0   \n",
       "\n",
       "   Uninsured Rate 2019  \n",
       "0                  9.7  \n",
       "1                 12.2  \n",
       "2                 11.3  \n",
       "3                  9.1  \n",
       "4                  7.7  "
      ]
     },
     "execution_count": 16,
     "metadata": {},
     "output_type": "execute_result"
    }
   ],
   "source": [
    "# Importing uninsured rates from the database\n",
    "uninsured_df = pd.read_sql_query(\"select * from uninsured_rates_by_state\" , con=engine)\n",
    "uninsured_df = uninsured_df.drop(uninsured_df.index[8])\n",
    "print(uninsured_df.shape)\n",
    "uninsured_df.head()"
   ]
  },
  {
   "cell_type": "code",
   "execution_count": 17,
   "metadata": {},
   "outputs": [],
   "source": [
    "# Removing white space from the df\n",
    "uninsured_df.columns=uninsured_df.columns.str.replace(' ', '')\n",
    "uninsured_df.columns=uninsured_df.columns.str.replace('﻿', '',regex=True)"
   ]
  },
  {
   "cell_type": "code",
   "execution_count": 18,
   "metadata": {},
   "outputs": [
    {
     "data": {
      "text/html": [
       "<div>\n",
       "<style scoped>\n",
       "    .dataframe tbody tr th:only-of-type {\n",
       "        vertical-align: middle;\n",
       "    }\n",
       "\n",
       "    .dataframe tbody tr th {\n",
       "        vertical-align: top;\n",
       "    }\n",
       "\n",
       "    .dataframe thead th {\n",
       "        text-align: right;\n",
       "    }\n",
       "</style>\n",
       "<table border=\"1\" class=\"dataframe\">\n",
       "  <thead>\n",
       "    <tr style=\"text-align: right;\">\n",
       "      <th></th>\n",
       "      <th>State</th>\n",
       "      <th>2016</th>\n",
       "      <th>2017</th>\n",
       "      <th>2018</th>\n",
       "      <th>2019</th>\n",
       "    </tr>\n",
       "  </thead>\n",
       "  <tbody>\n",
       "    <tr>\n",
       "      <th>0</th>\n",
       "      <td>Alabama</td>\n",
       "      <td>9.1</td>\n",
       "      <td>9.4</td>\n",
       "      <td>10.0</td>\n",
       "      <td>9.7</td>\n",
       "    </tr>\n",
       "    <tr>\n",
       "      <th>1</th>\n",
       "      <td>Alaska</td>\n",
       "      <td>14.0</td>\n",
       "      <td>13.7</td>\n",
       "      <td>12.0</td>\n",
       "      <td>12.2</td>\n",
       "    </tr>\n",
       "    <tr>\n",
       "      <th>2</th>\n",
       "      <td>Arizona</td>\n",
       "      <td>10.0</td>\n",
       "      <td>10.1</td>\n",
       "      <td>10.0</td>\n",
       "      <td>11.3</td>\n",
       "    </tr>\n",
       "    <tr>\n",
       "      <th>3</th>\n",
       "      <td>Arkansas</td>\n",
       "      <td>7.9</td>\n",
       "      <td>7.9</td>\n",
       "      <td>8.0</td>\n",
       "      <td>9.1</td>\n",
       "    </tr>\n",
       "    <tr>\n",
       "      <th>4</th>\n",
       "      <td>California</td>\n",
       "      <td>7.3</td>\n",
       "      <td>7.2</td>\n",
       "      <td>7.0</td>\n",
       "      <td>7.7</td>\n",
       "    </tr>\n",
       "  </tbody>\n",
       "</table>\n",
       "</div>"
      ],
      "text/plain": [
       "        State  2016  2017  2018  2019\n",
       "0     Alabama   9.1   9.4  10.0   9.7\n",
       "1      Alaska  14.0  13.7  12.0  12.2\n",
       "2     Arizona  10.0  10.1  10.0  11.3\n",
       "3    Arkansas   7.9   7.9   8.0   9.1\n",
       "4  California   7.3   7.2   7.0   7.7"
      ]
     },
     "execution_count": 18,
     "metadata": {},
     "output_type": "execute_result"
    }
   ],
   "source": [
    "# # Renaming the columns\n",
    "uninsured_df.rename(columns = {'UninsuredRate2016':'2016','UninsuredRate2017':'2017','UninsuredRate2018':'2018','UninsuredRate2019':'2019'}, inplace = True)\n",
    "uninsured_df.head()"
   ]
  },
  {
   "cell_type": "code",
   "execution_count": 20,
   "metadata": {},
   "outputs": [
    {
     "name": "stdout",
     "output_type": "stream",
     "text": [
      "(200, 3)\n"
     ]
    },
    {
     "data": {
      "text/html": [
       "<div>\n",
       "<style scoped>\n",
       "    .dataframe tbody tr th:only-of-type {\n",
       "        vertical-align: middle;\n",
       "    }\n",
       "\n",
       "    .dataframe tbody tr th {\n",
       "        vertical-align: top;\n",
       "    }\n",
       "\n",
       "    .dataframe thead th {\n",
       "        text-align: right;\n",
       "    }\n",
       "</style>\n",
       "<table border=\"1\" class=\"dataframe\">\n",
       "  <thead>\n",
       "    <tr style=\"text-align: right;\">\n",
       "      <th></th>\n",
       "      <th>State</th>\n",
       "      <th>Year</th>\n",
       "      <th>Uninsured_%</th>\n",
       "    </tr>\n",
       "  </thead>\n",
       "  <tbody>\n",
       "    <tr>\n",
       "      <th>0</th>\n",
       "      <td>Alabama</td>\n",
       "      <td>2016</td>\n",
       "      <td>9.1</td>\n",
       "    </tr>\n",
       "    <tr>\n",
       "      <th>1</th>\n",
       "      <td>Alaska</td>\n",
       "      <td>2016</td>\n",
       "      <td>14.0</td>\n",
       "    </tr>\n",
       "    <tr>\n",
       "      <th>2</th>\n",
       "      <td>Arizona</td>\n",
       "      <td>2016</td>\n",
       "      <td>10.0</td>\n",
       "    </tr>\n",
       "    <tr>\n",
       "      <th>3</th>\n",
       "      <td>Arkansas</td>\n",
       "      <td>2016</td>\n",
       "      <td>7.9</td>\n",
       "    </tr>\n",
       "    <tr>\n",
       "      <th>4</th>\n",
       "      <td>California</td>\n",
       "      <td>2016</td>\n",
       "      <td>7.3</td>\n",
       "    </tr>\n",
       "  </tbody>\n",
       "</table>\n",
       "</div>"
      ],
      "text/plain": [
       "        State  Year  Uninsured_%\n",
       "0     Alabama  2016          9.1\n",
       "1      Alaska  2016         14.0\n",
       "2     Arizona  2016         10.0\n",
       "3    Arkansas  2016          7.9\n",
       "4  California  2016          7.3"
      ]
     },
     "execution_count": 20,
     "metadata": {},
     "output_type": "execute_result"
    }
   ],
   "source": [
    "# # Unpivot the df from wide to long format\n",
    "uninsured_df1 = pd.melt(uninsured_df, id_vars=['State'], value_name='Uninsured_%', var_name='Year')\n",
    "print(uninsured_df1.shape)\n",
    "uninsured_df1.head()"
   ]
  },
  {
   "cell_type": "code",
   "execution_count": 21,
   "metadata": {},
   "outputs": [],
   "source": [
    "# Saving the flu data to the database\n",
    "uninsured_df1.to_csv(\"cleaned_uninsured_data.csv\")"
   ]
  },
  {
   "cell_type": "code",
   "execution_count": 22,
   "metadata": {},
   "outputs": [
    {
     "name": "stdout",
     "output_type": "stream",
     "text": [
      "(50, 5)\n"
     ]
    },
    {
     "data": {
      "text/html": [
       "<div>\n",
       "<style scoped>\n",
       "    .dataframe tbody tr th:only-of-type {\n",
       "        vertical-align: middle;\n",
       "    }\n",
       "\n",
       "    .dataframe tbody tr th {\n",
       "        vertical-align: top;\n",
       "    }\n",
       "\n",
       "    .dataframe thead th {\n",
       "        text-align: right;\n",
       "    }\n",
       "</style>\n",
       "<table border=\"1\" class=\"dataframe\">\n",
       "  <thead>\n",
       "    <tr style=\"text-align: right;\">\n",
       "      <th></th>\n",
       "      <th>State</th>\n",
       "      <th>2016</th>\n",
       "      <th>2017</th>\n",
       "      <th>2018</th>\n",
       "      <th>2019</th>\n",
       "    </tr>\n",
       "  </thead>\n",
       "  <tbody>\n",
       "    <tr>\n",
       "      <th>0</th>\n",
       "      <td>.Alabama</td>\n",
       "      <td>4,863,525</td>\n",
       "      <td>4,874,486</td>\n",
       "      <td>4,887,681</td>\n",
       "      <td>4,903,185</td>\n",
       "    </tr>\n",
       "    <tr>\n",
       "      <th>1</th>\n",
       "      <td>.Alaska</td>\n",
       "      <td>741,456</td>\n",
       "      <td>739,700</td>\n",
       "      <td>735,139</td>\n",
       "      <td>731,545</td>\n",
       "    </tr>\n",
       "    <tr>\n",
       "      <th>2</th>\n",
       "      <td>.Arizona</td>\n",
       "      <td>6,941,072</td>\n",
       "      <td>7,044,008</td>\n",
       "      <td>7,158,024</td>\n",
       "      <td>7,278,717</td>\n",
       "    </tr>\n",
       "    <tr>\n",
       "      <th>3</th>\n",
       "      <td>.Arkansas</td>\n",
       "      <td>2,989,918</td>\n",
       "      <td>3,001,345</td>\n",
       "      <td>3,009,733</td>\n",
       "      <td>3,017,804</td>\n",
       "    </tr>\n",
       "    <tr>\n",
       "      <th>4</th>\n",
       "      <td>.California</td>\n",
       "      <td>39,167,117</td>\n",
       "      <td>39,358,497</td>\n",
       "      <td>39,461,588</td>\n",
       "      <td>39,512,223</td>\n",
       "    </tr>\n",
       "  </tbody>\n",
       "</table>\n",
       "</div>"
      ],
      "text/plain": [
       "         State        2016        2017        2018        2019\n",
       "0     .Alabama   4,863,525   4,874,486   4,887,681   4,903,185\n",
       "1      .Alaska     741,456     739,700     735,139     731,545\n",
       "2     .Arizona   6,941,072   7,044,008   7,158,024   7,278,717\n",
       "3    .Arkansas   2,989,918   3,001,345   3,009,733   3,017,804\n",
       "4  .California  39,167,117  39,358,497  39,461,588  39,512,223"
      ]
     },
     "execution_count": 22,
     "metadata": {},
     "output_type": "execute_result"
    }
   ],
   "source": [
    "# Importing population from the database\n",
    "filepath = Path('Cleaned_population_density.csv')\n",
    "pop_df = pd.read_csv(filepath)\n",
    "pop_df = pop_df.drop(pop_df.index[8])\n",
    "print(pop_df.shape)\n",
    "pop_df.head()"
   ]
  },
  {
   "cell_type": "code",
   "execution_count": 23,
   "metadata": {},
   "outputs": [],
   "source": [
    "# Replace regex and white space in the dataframes\n",
    "pop_df.columns=pop_df.columns.str.replace(' ', '')\n",
    "pop_df['State']=pop_df['State'].str.replace('.','')\n",
    "pop_df.replace(',','', regex=True, inplace=True)"
   ]
  },
  {
   "cell_type": "code",
   "execution_count": 25,
   "metadata": {},
   "outputs": [
    {
     "name": "stdout",
     "output_type": "stream",
     "text": [
      "(200, 3)\n"
     ]
    },
    {
     "data": {
      "text/html": [
       "<div>\n",
       "<style scoped>\n",
       "    .dataframe tbody tr th:only-of-type {\n",
       "        vertical-align: middle;\n",
       "    }\n",
       "\n",
       "    .dataframe tbody tr th {\n",
       "        vertical-align: top;\n",
       "    }\n",
       "\n",
       "    .dataframe thead th {\n",
       "        text-align: right;\n",
       "    }\n",
       "</style>\n",
       "<table border=\"1\" class=\"dataframe\">\n",
       "  <thead>\n",
       "    <tr style=\"text-align: right;\">\n",
       "      <th></th>\n",
       "      <th>State</th>\n",
       "      <th>Year</th>\n",
       "      <th>total_pop</th>\n",
       "    </tr>\n",
       "  </thead>\n",
       "  <tbody>\n",
       "    <tr>\n",
       "      <th>0</th>\n",
       "      <td>Alabama</td>\n",
       "      <td>2016</td>\n",
       "      <td>4863525</td>\n",
       "    </tr>\n",
       "    <tr>\n",
       "      <th>1</th>\n",
       "      <td>Alaska</td>\n",
       "      <td>2016</td>\n",
       "      <td>741456</td>\n",
       "    </tr>\n",
       "    <tr>\n",
       "      <th>2</th>\n",
       "      <td>Arizona</td>\n",
       "      <td>2016</td>\n",
       "      <td>6941072</td>\n",
       "    </tr>\n",
       "    <tr>\n",
       "      <th>3</th>\n",
       "      <td>Arkansas</td>\n",
       "      <td>2016</td>\n",
       "      <td>2989918</td>\n",
       "    </tr>\n",
       "    <tr>\n",
       "      <th>4</th>\n",
       "      <td>California</td>\n",
       "      <td>2016</td>\n",
       "      <td>39167117</td>\n",
       "    </tr>\n",
       "  </tbody>\n",
       "</table>\n",
       "</div>"
      ],
      "text/plain": [
       "        State  Year total_pop\n",
       "0     Alabama  2016   4863525\n",
       "1      Alaska  2016    741456\n",
       "2     Arizona  2016   6941072\n",
       "3    Arkansas  2016   2989918\n",
       "4  California  2016  39167117"
      ]
     },
     "execution_count": 25,
     "metadata": {},
     "output_type": "execute_result"
    }
   ],
   "source": [
    "# Unpivot the pop_df from wide to long format\n",
    "pop_df1 = pd.melt(pop_df, id_vars=['State'], var_name='Year', value_name='total_pop')\n",
    "print(pop_df1.shape)\n",
    "pop_df1.head()"
   ]
  },
  {
   "cell_type": "code",
   "execution_count": 42,
   "metadata": {},
   "outputs": [],
   "source": [
    "# Saving the flu data to the database\n",
    "pop_df1.to_csv(\"cleaned_pop_data.csv\")"
   ]
  },
  {
   "cell_type": "code",
   "execution_count": 28,
   "metadata": {},
   "outputs": [
    {
     "name": "stdout",
     "output_type": "stream",
     "text": [
      "(200, 4)\n"
     ]
    },
    {
     "data": {
      "text/html": [
       "<div>\n",
       "<style scoped>\n",
       "    .dataframe tbody tr th:only-of-type {\n",
       "        vertical-align: middle;\n",
       "    }\n",
       "\n",
       "    .dataframe tbody tr th {\n",
       "        vertical-align: top;\n",
       "    }\n",
       "\n",
       "    .dataframe thead th {\n",
       "        text-align: right;\n",
       "    }\n",
       "</style>\n",
       "<table border=\"1\" class=\"dataframe\">\n",
       "  <thead>\n",
       "    <tr style=\"text-align: right;\">\n",
       "      <th></th>\n",
       "      <th>State</th>\n",
       "      <th>Year</th>\n",
       "      <th>total_pop</th>\n",
       "      <th>Uninsured_%</th>\n",
       "    </tr>\n",
       "  </thead>\n",
       "  <tbody>\n",
       "    <tr>\n",
       "      <th>0</th>\n",
       "      <td>Alabama</td>\n",
       "      <td>2016</td>\n",
       "      <td>4863525</td>\n",
       "      <td>9.1</td>\n",
       "    </tr>\n",
       "    <tr>\n",
       "      <th>1</th>\n",
       "      <td>Alaska</td>\n",
       "      <td>2016</td>\n",
       "      <td>741456</td>\n",
       "      <td>14.0</td>\n",
       "    </tr>\n",
       "    <tr>\n",
       "      <th>2</th>\n",
       "      <td>Arizona</td>\n",
       "      <td>2016</td>\n",
       "      <td>6941072</td>\n",
       "      <td>10.0</td>\n",
       "    </tr>\n",
       "    <tr>\n",
       "      <th>3</th>\n",
       "      <td>Arkansas</td>\n",
       "      <td>2016</td>\n",
       "      <td>2989918</td>\n",
       "      <td>7.9</td>\n",
       "    </tr>\n",
       "    <tr>\n",
       "      <th>4</th>\n",
       "      <td>California</td>\n",
       "      <td>2016</td>\n",
       "      <td>39167117</td>\n",
       "      <td>7.3</td>\n",
       "    </tr>\n",
       "  </tbody>\n",
       "</table>\n",
       "</div>"
      ],
      "text/plain": [
       "        State  Year total_pop  Uninsured_%\n",
       "0     Alabama  2016   4863525          9.1\n",
       "1      Alaska  2016    741456         14.0\n",
       "2     Arizona  2016   6941072         10.0\n",
       "3    Arkansas  2016   2989918          7.9\n",
       "4  California  2016  39167117          7.3"
      ]
     },
     "execution_count": 28,
     "metadata": {},
     "output_type": "execute_result"
    }
   ],
   "source": [
    "# Merging the uninsured_df and pop_df datasets\n",
    "cleaned_df2 = pd.merge(pop_df1, uninsured_df1, on=[\"State\", \"Year\"])\n",
    "# Dropping duplicated index\n",
    "print(cleaned_df2.shape)\n",
    "cleaned_df2.head()"
   ]
  },
  {
   "cell_type": "code",
   "execution_count": 29,
   "metadata": {},
   "outputs": [
    {
     "name": "stdout",
     "output_type": "stream",
     "text": [
      "(50, 5)\n"
     ]
    },
    {
     "data": {
      "text/html": [
       "<div>\n",
       "<style scoped>\n",
       "    .dataframe tbody tr th:only-of-type {\n",
       "        vertical-align: middle;\n",
       "    }\n",
       "\n",
       "    .dataframe tbody tr th {\n",
       "        vertical-align: top;\n",
       "    }\n",
       "\n",
       "    .dataframe thead th {\n",
       "        text-align: right;\n",
       "    }\n",
       "</style>\n",
       "<table border=\"1\" class=\"dataframe\">\n",
       "  <thead>\n",
       "    <tr style=\"text-align: right;\">\n",
       "      <th></th>\n",
       "      <th>State</th>\n",
       "      <th>2016</th>\n",
       "      <th>2017</th>\n",
       "      <th>2018</th>\n",
       "      <th>2019</th>\n",
       "    </tr>\n",
       "  </thead>\n",
       "  <tbody>\n",
       "    <tr>\n",
       "      <th>0</th>\n",
       "      <td>Alabama</td>\n",
       "      <td>39536.0</td>\n",
       "      <td>41030.0</td>\n",
       "      <td>42710.0</td>\n",
       "      <td>44145.0</td>\n",
       "    </tr>\n",
       "    <tr>\n",
       "      <th>1</th>\n",
       "      <td>Alaska</td>\n",
       "      <td>56302.0</td>\n",
       "      <td>57394.0</td>\n",
       "      <td>60355.0</td>\n",
       "      <td>62806.0</td>\n",
       "    </tr>\n",
       "    <tr>\n",
       "      <th>2</th>\n",
       "      <td>Arizona</td>\n",
       "      <td>40801.0</td>\n",
       "      <td>42590.0</td>\n",
       "      <td>44597.0</td>\n",
       "      <td>46058.0</td>\n",
       "    </tr>\n",
       "    <tr>\n",
       "      <th>3</th>\n",
       "      <td>Arkansas</td>\n",
       "      <td>40385.0</td>\n",
       "      <td>41657.0</td>\n",
       "      <td>43325.0</td>\n",
       "      <td>44629.0</td>\n",
       "    </tr>\n",
       "    <tr>\n",
       "      <th>4</th>\n",
       "      <td>California</td>\n",
       "      <td>58048.0</td>\n",
       "      <td>60549.0</td>\n",
       "      <td>63720.0</td>\n",
       "      <td>66619.0</td>\n",
       "    </tr>\n",
       "  </tbody>\n",
       "</table>\n",
       "</div>"
      ],
      "text/plain": [
       "        State     2016     2017     2018     2019\n",
       "0     Alabama  39536.0  41030.0  42710.0  44145.0\n",
       "1      Alaska  56302.0  57394.0  60355.0  62806.0\n",
       "2     Arizona  40801.0  42590.0  44597.0  46058.0\n",
       "3    Arkansas  40385.0  41657.0  43325.0  44629.0\n",
       "4  California  58048.0  60549.0  63720.0  66619.0"
      ]
     },
     "execution_count": 29,
     "metadata": {},
     "output_type": "execute_result"
    }
   ],
   "source": [
    "# Importing PCI by state from the database\n",
    "pci_df = pd.read_sql_query(\"select * from pci_by_state\" , con=engine)\n",
    "print(pci_df.shape)\n",
    "pci_df.head()"
   ]
  },
  {
   "cell_type": "code",
   "execution_count": 30,
   "metadata": {},
   "outputs": [
    {
     "data": {
      "text/plain": [
       "State    0\n",
       "2016     0\n",
       "2017     0\n",
       "2018     0\n",
       "2019     0\n",
       "dtype: int64"
      ]
     },
     "execution_count": 30,
     "metadata": {},
     "output_type": "execute_result"
    }
   ],
   "source": [
    "# Check for non null values\n",
    "pci_df.isnull().sum()"
   ]
  },
  {
   "cell_type": "code",
   "execution_count": 32,
   "metadata": {},
   "outputs": [
    {
     "name": "stdout",
     "output_type": "stream",
     "text": [
      "(200, 3)\n"
     ]
    },
    {
     "data": {
      "text/html": [
       "<div>\n",
       "<style scoped>\n",
       "    .dataframe tbody tr th:only-of-type {\n",
       "        vertical-align: middle;\n",
       "    }\n",
       "\n",
       "    .dataframe tbody tr th {\n",
       "        vertical-align: top;\n",
       "    }\n",
       "\n",
       "    .dataframe thead th {\n",
       "        text-align: right;\n",
       "    }\n",
       "</style>\n",
       "<table border=\"1\" class=\"dataframe\">\n",
       "  <thead>\n",
       "    <tr style=\"text-align: right;\">\n",
       "      <th></th>\n",
       "      <th>State</th>\n",
       "      <th>Year</th>\n",
       "      <th>PC_Income</th>\n",
       "    </tr>\n",
       "  </thead>\n",
       "  <tbody>\n",
       "    <tr>\n",
       "      <th>0</th>\n",
       "      <td>Alabama</td>\n",
       "      <td>2016</td>\n",
       "      <td>39536.0</td>\n",
       "    </tr>\n",
       "    <tr>\n",
       "      <th>1</th>\n",
       "      <td>Alaska</td>\n",
       "      <td>2016</td>\n",
       "      <td>56302.0</td>\n",
       "    </tr>\n",
       "    <tr>\n",
       "      <th>2</th>\n",
       "      <td>Arizona</td>\n",
       "      <td>2016</td>\n",
       "      <td>40801.0</td>\n",
       "    </tr>\n",
       "    <tr>\n",
       "      <th>3</th>\n",
       "      <td>Arkansas</td>\n",
       "      <td>2016</td>\n",
       "      <td>40385.0</td>\n",
       "    </tr>\n",
       "    <tr>\n",
       "      <th>4</th>\n",
       "      <td>California</td>\n",
       "      <td>2016</td>\n",
       "      <td>58048.0</td>\n",
       "    </tr>\n",
       "  </tbody>\n",
       "</table>\n",
       "</div>"
      ],
      "text/plain": [
       "        State  Year  PC_Income\n",
       "0     Alabama  2016    39536.0\n",
       "1      Alaska  2016    56302.0\n",
       "2     Arizona  2016    40801.0\n",
       "3    Arkansas  2016    40385.0\n",
       "4  California  2016    58048.0"
      ]
     },
     "execution_count": 32,
     "metadata": {},
     "output_type": "execute_result"
    }
   ],
   "source": [
    "# Unpivot the pop_df from wide to long format\n",
    "pci_df1 = pd.melt(pci_df, id_vars=['State'], var_name='Year', value_name='PC_Income')\n",
    "print(pci_df1.shape)\n",
    "pci_df1.head()"
   ]
  },
  {
   "cell_type": "code",
   "execution_count": 43,
   "metadata": {},
   "outputs": [],
   "source": [
    "# Saving the flu data to the database\n",
    "pci_df1.to_csv(\"cleaned_pci_data.csv\")"
   ]
  },
  {
   "cell_type": "code",
   "execution_count": 34,
   "metadata": {},
   "outputs": [
    {
     "name": "stdout",
     "output_type": "stream",
     "text": [
      "(200, 5)\n"
     ]
    },
    {
     "data": {
      "text/html": [
       "<div>\n",
       "<style scoped>\n",
       "    .dataframe tbody tr th:only-of-type {\n",
       "        vertical-align: middle;\n",
       "    }\n",
       "\n",
       "    .dataframe tbody tr th {\n",
       "        vertical-align: top;\n",
       "    }\n",
       "\n",
       "    .dataframe thead th {\n",
       "        text-align: right;\n",
       "    }\n",
       "</style>\n",
       "<table border=\"1\" class=\"dataframe\">\n",
       "  <thead>\n",
       "    <tr style=\"text-align: right;\">\n",
       "      <th></th>\n",
       "      <th>State</th>\n",
       "      <th>Year</th>\n",
       "      <th>total_pop</th>\n",
       "      <th>Uninsured_%</th>\n",
       "      <th>PC_Income</th>\n",
       "    </tr>\n",
       "  </thead>\n",
       "  <tbody>\n",
       "    <tr>\n",
       "      <th>0</th>\n",
       "      <td>Alabama</td>\n",
       "      <td>2016</td>\n",
       "      <td>4863525</td>\n",
       "      <td>9.1</td>\n",
       "      <td>39536.0</td>\n",
       "    </tr>\n",
       "    <tr>\n",
       "      <th>1</th>\n",
       "      <td>Alaska</td>\n",
       "      <td>2016</td>\n",
       "      <td>741456</td>\n",
       "      <td>14.0</td>\n",
       "      <td>56302.0</td>\n",
       "    </tr>\n",
       "    <tr>\n",
       "      <th>2</th>\n",
       "      <td>Arizona</td>\n",
       "      <td>2016</td>\n",
       "      <td>6941072</td>\n",
       "      <td>10.0</td>\n",
       "      <td>40801.0</td>\n",
       "    </tr>\n",
       "    <tr>\n",
       "      <th>3</th>\n",
       "      <td>Arkansas</td>\n",
       "      <td>2016</td>\n",
       "      <td>2989918</td>\n",
       "      <td>7.9</td>\n",
       "      <td>40385.0</td>\n",
       "    </tr>\n",
       "    <tr>\n",
       "      <th>4</th>\n",
       "      <td>California</td>\n",
       "      <td>2016</td>\n",
       "      <td>39167117</td>\n",
       "      <td>7.3</td>\n",
       "      <td>58048.0</td>\n",
       "    </tr>\n",
       "  </tbody>\n",
       "</table>\n",
       "</div>"
      ],
      "text/plain": [
       "        State  Year total_pop  Uninsured_%  PC_Income\n",
       "0     Alabama  2016   4863525          9.1    39536.0\n",
       "1      Alaska  2016    741456         14.0    56302.0\n",
       "2     Arizona  2016   6941072         10.0    40801.0\n",
       "3    Arkansas  2016   2989918          7.9    40385.0\n",
       "4  California  2016  39167117          7.3    58048.0"
      ]
     },
     "execution_count": 34,
     "metadata": {},
     "output_type": "execute_result"
    }
   ],
   "source": [
    "# Merging cleaned_df2 with pci_df datasets\n",
    "cleaned_df3 = pd.merge(cleaned_df2, pci_df1, on=[\"State\", \"Year\"])\n",
    "# Dropping duplicated index\n",
    "# cleaned_df3 = cleaned_df3.drop(columns=['Year'])\n",
    "print(cleaned_df3.shape)\n",
    "cleaned_df3.head()"
   ]
  },
  {
   "cell_type": "code",
   "execution_count": 35,
   "metadata": {},
   "outputs": [
    {
     "name": "stdout",
     "output_type": "stream",
     "text": [
      "(200, 7)\n"
     ]
    },
    {
     "data": {
      "text/html": [
       "<div>\n",
       "<style scoped>\n",
       "    .dataframe tbody tr th:only-of-type {\n",
       "        vertical-align: middle;\n",
       "    }\n",
       "\n",
       "    .dataframe tbody tr th {\n",
       "        vertical-align: top;\n",
       "    }\n",
       "\n",
       "    .dataframe thead th {\n",
       "        text-align: right;\n",
       "    }\n",
       "</style>\n",
       "<table border=\"1\" class=\"dataframe\">\n",
       "  <thead>\n",
       "    <tr style=\"text-align: right;\">\n",
       "      <th></th>\n",
       "      <th>State</th>\n",
       "      <th>Year</th>\n",
       "      <th>total_pop</th>\n",
       "      <th>Uninsured_%</th>\n",
       "      <th>PC_Income</th>\n",
       "      <th>GDP</th>\n",
       "      <th>Flu_%</th>\n",
       "    </tr>\n",
       "  </thead>\n",
       "  <tbody>\n",
       "    <tr>\n",
       "      <th>0</th>\n",
       "      <td>Alabama</td>\n",
       "      <td>2016</td>\n",
       "      <td>4863525</td>\n",
       "      <td>9.1</td>\n",
       "      <td>39536.0</td>\n",
       "      <td>191523</td>\n",
       "      <td>0.237399828</td>\n",
       "    </tr>\n",
       "    <tr>\n",
       "      <th>1</th>\n",
       "      <td>Alaska</td>\n",
       "      <td>2016</td>\n",
       "      <td>741456</td>\n",
       "      <td>14.0</td>\n",
       "      <td>56302.0</td>\n",
       "      <td>53289</td>\n",
       "      <td>0.143366565</td>\n",
       "    </tr>\n",
       "    <tr>\n",
       "      <th>2</th>\n",
       "      <td>Arizona</td>\n",
       "      <td>2016</td>\n",
       "      <td>6941072</td>\n",
       "      <td>10.0</td>\n",
       "      <td>40801.0</td>\n",
       "      <td>291259</td>\n",
       "      <td>0.322226884</td>\n",
       "    </tr>\n",
       "    <tr>\n",
       "      <th>3</th>\n",
       "      <td>Arkansas</td>\n",
       "      <td>2016</td>\n",
       "      <td>2989918</td>\n",
       "      <td>7.9</td>\n",
       "      <td>40385.0</td>\n",
       "      <td>113490</td>\n",
       "      <td>0.096424049</td>\n",
       "    </tr>\n",
       "    <tr>\n",
       "      <th>4</th>\n",
       "      <td>California</td>\n",
       "      <td>2016</td>\n",
       "      <td>39167117</td>\n",
       "      <td>7.3</td>\n",
       "      <td>58048.0</td>\n",
       "      <td>2519133</td>\n",
       "      <td>0.112745087</td>\n",
       "    </tr>\n",
       "  </tbody>\n",
       "</table>\n",
       "</div>"
      ],
      "text/plain": [
       "        State  Year total_pop  Uninsured_%  PC_Income      GDP        Flu_%\n",
       "0     Alabama  2016   4863525          9.1    39536.0   191523  0.237399828\n",
       "1      Alaska  2016    741456         14.0    56302.0    53289  0.143366565\n",
       "2     Arizona  2016   6941072         10.0    40801.0   291259  0.322226884\n",
       "3    Arkansas  2016   2989918          7.9    40385.0   113490  0.096424049\n",
       "4  California  2016  39167117          7.3    58048.0  2519133  0.112745087"
      ]
     },
     "execution_count": 35,
     "metadata": {},
     "output_type": "execute_result"
    }
   ],
   "source": [
    "# Merging cleaned_df3 with clean_df datasets\n",
    "viral_df = pd.merge(cleaned_df3,cleaned_df, on=[\"State\", \"Year\"])\n",
    "# Renaming appropriate columns\n",
    "print(viral_df.shape)\n",
    "viral_df.head()"
   ]
  },
  {
   "cell_type": "code",
   "execution_count": 36,
   "metadata": {},
   "outputs": [],
   "source": [
    "# Convert the df columns to float\n",
    "viral_df['Flu_%'] = viral_df['Flu_%'].astype(float)"
   ]
  },
  {
   "cell_type": "code",
   "execution_count": 38,
   "metadata": {},
   "outputs": [
    {
     "data": {
      "text/plain": [
       "State           object\n",
       "Year            object\n",
       "total_pop      float64\n",
       "Uninsured_%    float64\n",
       "PC_Income      float64\n",
       "GDP              int64\n",
       "Flu_%          float64\n",
       "dtype: object"
      ]
     },
     "execution_count": 38,
     "metadata": {},
     "output_type": "execute_result"
    }
   ],
   "source": [
    "# Convert the 'Year' to string for encoding and 'total_pop' to float\n",
    "viral_df['Year'] = viral_df['Year'].astype(str)\n",
    "viral_df['total_pop'] = viral_df['total_pop'].astype(float)\n",
    "viral_df.dtypes"
   ]
  },
  {
   "cell_type": "markdown",
   "metadata": {},
   "source": [
    "### Visualizing the merged data for any correlation"
   ]
  },
  {
   "cell_type": "code",
   "execution_count": 39,
   "metadata": {},
   "outputs": [
    {
     "data": {
      "image/png": "[encoded data removed]",
      "text/plain": [
       "<Figure size 1440x720 with 2 Axes>"
      ]
     },
     "metadata": {
      "needs_background": "light"
     },
     "output_type": "display_data"
    }
   ],
   "source": [
    "corr = viral_df.corr()\n",
    "g = sns.heatmap(corr,  vmax=.3, center=0,\n",
    "            square=True, linewidths=1, cbar_kws={\"shrink\": .5}, annot=True, fmt='.2f', cmap='Spectral')\n",
    "sns.despine()\n",
    "g.figure.set_size_inches(20,10)\n",
    "    \n",
    "plt.show()"
   ]
  },
  {
   "cell_type": "code",
   "execution_count": 40,
   "metadata": {},
   "outputs": [
    {
     "data": {
      "text/html": [
       "<div>\n",
       "<style scoped>\n",
       "    .dataframe tbody tr th:only-of-type {\n",
       "        vertical-align: middle;\n",
       "    }\n",
       "\n",
       "    .dataframe tbody tr th {\n",
       "        vertical-align: top;\n",
       "    }\n",
       "\n",
       "    .dataframe thead th {\n",
       "        text-align: right;\n",
       "    }\n",
       "</style>\n",
       "<table border=\"1\" class=\"dataframe\">\n",
       "  <thead>\n",
       "    <tr style=\"text-align: right;\">\n",
       "      <th></th>\n",
       "      <th>total_pop</th>\n",
       "      <th>Uninsured_%</th>\n",
       "      <th>PC_Income</th>\n",
       "      <th>GDP</th>\n",
       "      <th>Flu_%</th>\n",
       "    </tr>\n",
       "  </thead>\n",
       "  <tbody>\n",
       "    <tr>\n",
       "      <th>total_pop</th>\n",
       "      <td>1.000000</td>\n",
       "      <td>0.191784</td>\n",
       "      <td>0.211672</td>\n",
       "      <td>0.981616</td>\n",
       "      <td>-0.144242</td>\n",
       "    </tr>\n",
       "    <tr>\n",
       "      <th>Uninsured_%</th>\n",
       "      <td>0.191784</td>\n",
       "      <td>1.000000</td>\n",
       "      <td>-0.377154</td>\n",
       "      <td>0.113213</td>\n",
       "      <td>0.216051</td>\n",
       "    </tr>\n",
       "    <tr>\n",
       "      <th>PC_Income</th>\n",
       "      <td>0.211672</td>\n",
       "      <td>-0.377154</td>\n",
       "      <td>1.000000</td>\n",
       "      <td>0.315699</td>\n",
       "      <td>-0.085205</td>\n",
       "    </tr>\n",
       "    <tr>\n",
       "      <th>GDP</th>\n",
       "      <td>0.981616</td>\n",
       "      <td>0.113213</td>\n",
       "      <td>0.315699</td>\n",
       "      <td>1.000000</td>\n",
       "      <td>-0.145826</td>\n",
       "    </tr>\n",
       "    <tr>\n",
       "      <th>Flu_%</th>\n",
       "      <td>-0.144242</td>\n",
       "      <td>0.216051</td>\n",
       "      <td>-0.085205</td>\n",
       "      <td>-0.145826</td>\n",
       "      <td>1.000000</td>\n",
       "    </tr>\n",
       "  </tbody>\n",
       "</table>\n",
       "</div>"
      ],
      "text/plain": [
       "             total_pop  Uninsured_%  PC_Income       GDP     Flu_%\n",
       "total_pop     1.000000     0.191784   0.211672  0.981616 -0.144242\n",
       "Uninsured_%   0.191784     1.000000  -0.377154  0.113213  0.216051\n",
       "PC_Income     0.211672    -0.377154   1.000000  0.315699 -0.085205\n",
       "GDP           0.981616     0.113213   0.315699  1.000000 -0.145826\n",
       "Flu_%        -0.144242     0.216051  -0.085205 -0.145826  1.000000"
      ]
     },
     "execution_count": 40,
     "metadata": {},
     "output_type": "execute_result"
    }
   ],
   "source": [
    "# Creating the correlation matrix\n",
    "viral_df.corr()"
   ]
  },
  {
   "cell_type": "code",
   "execution_count": 41,
   "metadata": {},
   "outputs": [],
   "source": [
    "# Saving the new combined cleaned dataset\n",
    "viral_df.to_csv(\"viral_data.csv\")"
   ]
  }
 ],
 "metadata": {
  "kernelspec": {
   "display_name": "mlenv",
   "language": "python",
   "name": "mlenv"
  },
  "language_info": {
   "codemirror_mode": {
    "name": "ipython",
    "version": 3
   },
   "file_extension": ".py",
   "mimetype": "text/x-python",
   "name": "python",
   "nbconvert_exporter": "python",
   "pygments_lexer": "ipython3",
   "version": "3.8.3"
  }
 },
 "nbformat": 4,
 "nbformat_minor": 2
}
